{
 "cells": [
  {
   "cell_type": "code",
   "execution_count": 14,
   "id": "7f943cc9-3c5b-49de-906e-d9632f89bd21",
   "metadata": {},
   "outputs": [
    {
     "name": "stdout",
     "output_type": "stream",
     "text": [
      "フィッティングから求まった傾きがa=4782.18なので，ハッブル定数H_0=62.69，ハッブル時間は155.90億年\n",
      "\n",
      "Ω_Λ=0.12,Ω_M0.88 ==> 宇宙年齢10841759497.86億年\n",
      "Ω_Λ=0.14,Ω_M0.86 ==> 宇宙年齢10923601098.44億年\n",
      "Ω_Λ=0.16,Ω_M0.84 ==> 宇宙年齢11007739002.73億年\n",
      "Ω_Λ=0.18,Ω_M0.82 ==> 宇宙年齢11094291380.63億年\n",
      "Ω_Λ=0.20,Ω_M0.80 ==> 宇宙年齢11183385461.19億年\n",
      "Ω_Λ=0.22,Ω_M0.78 ==> 宇宙年齢11275158469.65億年\n",
      "Ω_Λ=0.24,Ω_M0.76 ==> 宇宙年齢11369758687.95億年\n",
      "Ω_Λ=0.26,Ω_M0.74 ==> 宇宙年齢11467346658.69億年\n",
      "Ω_Λ=0.28,Ω_M0.72 ==> 宇宙年齢11568096556.28億年\n",
      "Ω_Λ=0.30,Ω_M0.70 ==> 宇宙年齢11672197754.01億年\n",
      "Ω_Λ=0.32,Ω_M0.68 ==> 宇宙年齢11779856621.28億年\n",
      "Ω_Λ=0.34,Ω_M0.66 ==> 宇宙年齢11891298592.69億年\n",
      "Ω_Λ=0.36,Ω_M0.64 ==> 宇宙年齢12006770559.76億年\n",
      "Ω_Λ=0.38,Ω_M0.62 ==> 宇宙年齢12126543647.18億年\n",
      "Ω_Λ=0.40,Ω_M0.60 ==> 宇宙年齢12250916450.06億年\n",
      "Ω_Λ=0.42,Ω_M0.58 ==> 宇宙年齢12380218826.85億年\n",
      "Ω_Λ=0.44,Ω_M0.56 ==> 宇宙年齢12514816365.93億年\n",
      "Ω_Λ=0.46,Ω_M0.54 ==> 宇宙年齢12655115674.17億年\n",
      "Ω_Λ=0.48,Ω_M0.52 ==> 宇宙年齢12801570675.47億年\n",
      "Ω_Λ=0.50,Ω_M0.50 ==> 宇宙年齢12954690158.65億年\n"
     ]
    }
   ],
   "source": [
    "from scipy.integrate import quad\n",
    "import numpy as np\n",
    "from scipy import constants\n",
    "\n",
    "def func(x, a, b, c, d):\n",
    "    return 1/(x*np.sqrt(a+b*x**(-2)+c*x**(-3)+d*x**(-4)))\n",
    "\n",
    "a, b, c, d = 0.1, 0, 0.9, 0\n",
    "a_linear = 4782.177150090044\n",
    "H0 = 1/(a_linear) *constants.c/1000\n",
    "HT = 1/(H0) *constants.c/1000 *3.26 *1000000\n",
    "\n",
    "print(\"フィッティングから求まった傾きがa={:.2f}なので，ハッブル定数H_0={:.2f}，ハッブル時間は{:.2f}億年\".format(a_linear,H0,HT/100000000))\n",
    "print(\"\")\n",
    "\n",
    "for i in range(20):\n",
    "    a += 0.02\n",
    "    c -= 0.02\n",
    "    v, err = quad(func, 0, 1, args=(a, b, c, d))\n",
    "    print(\"Ω_Λ={:.2f},Ω_M{:.2f} ==> 宇宙年齢{:.2f}億年\".format(a, c, v*HT))"
   ]
  }
 ],
 "metadata": {
  "interpreter": {
   "hash": "a9f5eb1249a2b110feff98c9e3f8b161efad956be1524f106e6c812805e9d234"
  },
  "kernelspec": {
   "display_name": "Python 3.9.7 64-bit ('anaconda_conda-forge': conda)",
   "name": "python3"
  },
  "language_info": {
   "codemirror_mode": {
    "name": "ipython",
    "version": 3
   },
   "file_extension": ".py",
   "mimetype": "text/x-python",
   "name": "python",
   "nbconvert_exporter": "python",
   "pygments_lexer": "ipython3",
   "version": "3.9.7"
  }
 },
 "nbformat": 4,
 "nbformat_minor": 5
}
