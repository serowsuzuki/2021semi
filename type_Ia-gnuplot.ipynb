{
 "cells": [
  {
   "cell_type": "code",
   "execution_count": 22,
   "metadata": {},
   "outputs": [
    {
     "name": "stdout",
     "output_type": "stream",
     "text": [
      "Name          15434\n",
      "Disc. Date    15228\n",
      "Host Name      6825\n",
      "z             15434\n",
      "dL (Mpc)      15434\n",
      "Type          15434\n",
      "dtype: int64\n",
      "        Name  Disc. Date     Host Name                         z  dL (Mpc)  \\\n",
      "0    SN1972E  1972/05/06      NGC 5253                  0.001358    2.7000   \n",
      "1    SN1895B  1895/07/07      NGC 5253                    0.0014    2.7000   \n",
      "2    SN1986G  1986/05/03      NGC 5128  0.00183,0.000848,0.00103    2.8000   \n",
      "3    SN1937C  1937/08/16       IC 4182         0.001071,0.001071    3.0000   \n",
      "4    SN1983N  1983/07/03      NGC 5236   0.00308,0.00321,0.00171    4.3000   \n",
      "5  SN2021abt  2021/01/10  LEDA 1022096                  0.001429    6.3312   \n",
      "6   SN2012cg  2012/05/17      NGC 4424                  0.001458    6.4598   \n",
      "7    SN1937D  1937/09/09      NGC 1003                   0.00518    8.0000   \n",
      "8    SN1971I  1971/05/24      NGC 5055           0.00131,0.00344    8.0000   \n",
      "9   SN2010el  2010/06/19      NGC 1566               0.005,0.005    8.0000   \n",
      "\n",
      "      Type  \n",
      "0       Ia  \n",
      "1       Ia  \n",
      "2  Ia-91bg  \n",
      "3       Ia  \n",
      "4       Ib  \n",
      "5       Ia  \n",
      "6       Ia  \n",
      "7       Ia  \n",
      "8       Ia  \n",
      "9  Ia-02cx  \n"
     ]
    }
   ],
   "source": [
    "import pandas as pd\n",
    "# import pandas_profiling\n",
    "import matplotlib as mpl\n",
    "import matplotlib.pyplot as plt\n",
    "import numpy as np\n",
    "\n",
    "# データを読み込む\n",
    "# \"input/type_Ia_lt_001.csv\"は，typeIaのうちz>0.001のもの．\n",
    "data = pd.read_csv(\"input/type_Ia_lt_001.csv\")\n",
    "\n",
    "print(data.count())\n",
    "print(data.head(10))"
   ]
  },
  {
   "cell_type": "code",
   "execution_count": 23,
   "metadata": {},
   "outputs": [
    {
     "name": "stdout",
     "output_type": "stream",
     "text": [
      "Name          15434\n",
      "Disc. Date    15228\n",
      "Host Name      6825\n",
      "z             15434\n",
      "dL (Mpc)      15434\n",
      "Type          15434\n",
      "dtype: int64\n",
      "        Name  Disc. Date     Host Name         z  dL (Mpc)     Type\n",
      "0    SN1972E  1972/05/06      NGC 5253  0.001358    2.7000       Ia\n",
      "1    SN1895B  1895/07/07      NGC 5253  0.001400    2.7000       Ia\n",
      "2    SN1986G  1986/05/03      NGC 5128  0.001830    2.8000  Ia-91bg\n",
      "3    SN1937C  1937/08/16       IC 4182  0.001071    3.0000       Ia\n",
      "4    SN1983N  1983/07/03      NGC 5236  0.003080    4.3000       Ib\n",
      "5  SN2021abt  2021/01/10  LEDA 1022096  0.001429    6.3312       Ia\n",
      "6   SN2012cg  2012/05/17      NGC 4424  0.001458    6.4598       Ia\n",
      "7    SN1937D  1937/09/09      NGC 1003  0.005180    8.0000       Ia\n",
      "8    SN1971I  1971/05/24      NGC 5055  0.001310    8.0000       Ia\n",
      "9   SN2010el  2010/06/19      NGC 1566  0.005000    8.0000  Ia-02cx\n"
     ]
    }
   ],
   "source": [
    "# 何も\"z\"と\"dL (Mpc)\"に何も入っていないやつを落とす．（データ数が変わっていないので，意味がなかった．）\n",
    "data.dropna(subset=['z','dL (Mpc)'], inplace=True)\n",
    "# zの中に\",\"で区切られて複数のデータがあるものがあるが，それを分割して捨て去る．（特に平均などは取っていない）\n",
    "data_a = data[\"z\"].str.split(\",\", expand=True)\n",
    "# \",\"が入っていたせいで，データ型がstringだったので，floatに変換して元のデータに戻す．\n",
    "data[\"z\"] = data_a[0].astype(float)\n",
    "print(data.count())\n",
    "print(data.head(10))"
   ]
  },
  {
   "cell_type": "code",
   "execution_count": 30,
   "metadata": {},
   "outputs": [
    {
     "name": "stdout",
     "output_type": "stream",
     "text": [
      "              z  dL (Mpc)\n",
      "0      0.001358       2.7\n",
      "1      0.001400       2.7\n",
      "2      0.001830       2.8\n",
      "3      0.001071       3.0\n",
      "4      0.003080       4.3\n",
      "...         ...       ...\n",
      "15429  1.713000   13182.0\n",
      "15430  1.755000   13580.0\n",
      "15431  1.914000   15101.0\n",
      "15432  2.070000   16620.0\n",
      "15433  2.221600   18111.5\n",
      "\n",
      "[15434 rows x 2 columns]\n"
     ]
    }
   ],
   "source": [
    "data_z = data[\"z\"]\n",
    "data_dl = data[\"dL (Mpc)\"]\n",
    "data_plot = pd.DataFrame({\"z\":data_z,\"dL (Mpc)\":data_dl})\n",
    "\n",
    "print(data_plot)\n",
    "\n",
    "data_plot.to_csv(\"z-dl_lt_z001.csv\",index=False, header=False ,sep=\"\\t\")"
   ]
  },
  {
   "cell_type": "code",
   "execution_count": null,
   "metadata": {},
   "outputs": [],
   "source": []
  }
 ],
 "metadata": {
  "interpreter": {
   "hash": "a9f5eb1249a2b110feff98c9e3f8b161efad956be1524f106e6c812805e9d234"
  },
  "kernelspec": {
   "display_name": "Python 3.9.7 64-bit ('anaconda_conda-forge': pyenv)",
   "name": "python3"
  },
  "language_info": {
   "codemirror_mode": {
    "name": "ipython",
    "version": 3
   },
   "file_extension": ".py",
   "mimetype": "text/x-python",
   "name": "python",
   "nbconvert_exporter": "python",
   "pygments_lexer": "ipython3",
   "version": "3.9.7"
  }
 },
 "nbformat": 4,
 "nbformat_minor": 5
}
