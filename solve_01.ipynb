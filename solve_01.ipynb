{
 "cells": [
  {
   "cell_type": "markdown",
   "metadata": {},
   "source": [
    "# $y=x$と$y=x^2$の解"
   ]
  },
  {
   "cell_type": "markdown",
   "metadata": {},
   "source": [
    "## rangeとnumpy.arangeとnumpy.linspace"
   ]
  },
  {
   "cell_type": "code",
   "execution_count": 17,
   "metadata": {},
   "outputs": [
    {
     "name": "stdout",
     "output_type": "stream",
     "text": [
      "*****range****\n",
      "range(-10, 10)\n",
      "<class 'range'>\n",
      "[-10, -9, -8, -7, -6, -5, -4, -3, -2, -1, 0, 1, 2, 3, 4, 5, 6, 7, 8, 9]\n",
      "[-1.0, -0.9, -0.8, -0.7000000000000001, -0.6000000000000001, -0.5, -0.4, -0.30000000000000004, -0.2, -0.1, 0.0, 0.1, 0.2, 0.30000000000000004, 0.4, 0.5, 0.6000000000000001, 0.7000000000000001, 0.8, 0.9]\n",
      "\n",
      "****arange****\n",
      "[-1.00000000e+00 -9.00000000e-01 -8.00000000e-01 -7.00000000e-01\n",
      " -6.00000000e-01 -5.00000000e-01 -4.00000000e-01 -3.00000000e-01\n",
      " -2.00000000e-01 -1.00000000e-01 -2.22044605e-16  1.00000000e-01\n",
      "  2.00000000e-01  3.00000000e-01  4.00000000e-01  5.00000000e-01\n",
      "  6.00000000e-01  7.00000000e-01  8.00000000e-01  9.00000000e-01]\n",
      "\n",
      "****linspace****\n",
      "[-1.  -0.9 -0.8 -0.7 -0.6 -0.5 -0.4 -0.3 -0.2 -0.1  0.   0.1  0.2  0.3\n",
      "  0.4  0.5  0.6  0.7  0.8  0.9  1. ]\n"
     ]
    }
   ],
   "source": [
    "import numpy as np\n",
    "import matplotlib.pyplot as plt\n",
    "\n",
    "# rangeを使ってリストを作りたい場合は，listに変換するか，for文にする．\n",
    "t_range = range(-10,10)\n",
    "# リストに変換する．float型にはできない．\n",
    "t_range_l = list(t_range)\n",
    "# for文でappendしていく．小数のリストも作ることができるが，誤差が出る．\n",
    "t_range_for = []\n",
    "for i in t_range:\n",
    "    t_range_for.append(i*0.1)\n",
    "\n",
    "# arangeは使いやすいが，誤差がでる．\n",
    "# 特に最後に誤差が出るので，if文などで1ステップ分の誤差が出るかもしれない．\n",
    "# 要注意\n",
    "t_arange = np.arange(-1,1,0.1)\n",
    "\n",
    "# 最初と最後とステップ数を決めるので，少し面倒臭いが，最後に誤差が出ないので安心．\n",
    "t_linspace = np.linspace(-1,1,21)\n",
    "\n",
    "\n",
    "print(\"*****range****\")\n",
    "print(t_range)\n",
    "print(type(t_range))\n",
    "print(t_range_l)\n",
    "print(t_range_for)\n",
    "print(\"\")\n",
    "print(\"****arange****\")\n",
    "print(t_arange)\n",
    "print(\"\")\n",
    "print(\"****linspace****\")\n",
    "print(t_linspace)"
   ]
  },
  {
   "cell_type": "code",
   "execution_count": 15,
   "metadata": {},
   "outputs": [
    {
     "name": "stdout",
     "output_type": "stream",
     "text": [
      "だいたい：x=0.200のとき，y_1=0.000, y_2=0.120\n",
      "だいたい：x=1.400のとき，y_1=6.000, y_2=5.880\n"
     ]
    },
    {
     "data": {
      "image/png": "[encoded data removed]",
      "text/plain": [
       "<Figure size 432x288 with 1 Axes>"
      ]
     },
     "metadata": {
      "needs_background": "light"
     },
     "output_type": "display_data"
    }
   ],
   "source": [
    "def y_1(x):\n",
    "    return 5*x - 1\n",
    "\n",
    "def y_2(x):\n",
    "    return 3*x**2\n",
    "\n",
    "x=[]\n",
    "yl_1=[]\n",
    "yl_2=[]\n",
    "for i in range (-20,20):\n",
    "    x_p = (i+1)*0.1\n",
    "    x_m = i*0.1\n",
    "    x.append(x_m)\n",
    "    yl_1.append(y_1(x_m))\n",
    "    yl_2.append(y_2(x_m))\n",
    "    if (y_1(x_p)-y_2(x_p))*(y_1(x_m)-y_2(x_m))==0:\n",
    "        print(\"ピッタリ：x={:.3f}のとき，y_1={:.3f}, y_2={:.3f}\".format(x_m,y_1(x_m),y_2(x_m)))\n",
    "    elif (y_1(x_p)-y_2(x_p))*(y_1(x_m)-y_2(x_m))<0:\n",
    "        print(\"だいたい：x={:.3f}のとき，y_1={:.3f}, y_2={:.3f}\".format(x_m,y_1(x_m),y_2(x_m)))\n",
    "\n",
    "plt.plot(x,yl_1)\n",
    "plt.plot(x,yl_2)\n",
    "plt.grid()\n",
    "plt.show()"
   ]
  }
 ],
 "metadata": {
  "interpreter": {
   "hash": "a9f5eb1249a2b110feff98c9e3f8b161efad956be1524f106e6c812805e9d234"
  },
  "kernelspec": {
   "display_name": "Python 3.9.7 64-bit ('anaconda_conda-forge': conda)",
   "name": "python3"
  },
  "language_info": {
   "codemirror_mode": {
    "name": "ipython",
    "version": 3
   },
   "file_extension": ".py",
   "mimetype": "text/x-python",
   "name": "python",
   "nbconvert_exporter": "python",
   "pygments_lexer": "ipython3",
   "version": "3.9.7"
  },
  "orig_nbformat": 4
 },
 "nbformat": 4,
 "nbformat_minor": 2
}
